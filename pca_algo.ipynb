{
 "cells": [
  {
   "cell_type": "markdown",
   "id": "08be21de-c073-4b05-8f99-e1dee029e0e2",
   "metadata": {},
   "source": [
    "**Principal Component Analysis (PCA) is a dimensionality reduction technique that:\n",
    "Converts possibly correlated features into a set of linearly uncorrelated components.These new variables (called principal components) capture the most variance in the data.**\n"
   ]
  },
  {
   "cell_type": "code",
   "execution_count": 19,
   "id": "89009c0c-4415-4e43-aad5-73a7cbe85844",
   "metadata": {},
   "outputs": [],
   "source": [
    "import numpy as np\n",
    "import matplotlib.pyplot as plt\n",
    "\n",
    "# Create a 2D dataset\n",
    "X = np.array([\n",
    "    [2.5, 2.4],\n",
    "    [0.5, 0.5],\n",
    "    [2.2, 2.9],\n",
    "    [1.9, 2.2],\n",
    "    [3.1, 3.0],\n",
    "    [2.3, 2.7],\n",
    "    [2, 1.6],\n",
    "    [1, 1.1],\n",
    "    [1.5, 1.6],\n",
    "    [1.1, 0.8]\n",
    "])\n"
   ]
  },
  {
   "cell_type": "code",
   "execution_count": 20,
   "id": "cf641b19-9fab-43a0-a6c0-311bb4c3f9a0",
   "metadata": {},
   "outputs": [],
   "source": [
    "# Step 2: Standardize\n",
    "X_meaned = X - np.mean(X, axis=0)\n"
   ]
  },
  {
   "cell_type": "code",
   "execution_count": 21,
   "id": "b5e8d60f-5a85-4b62-9ed4-6a980be90f50",
   "metadata": {},
   "outputs": [],
   "source": [
    "# Step 3: Covariance matrix\n",
    "cov_mat = np.cov(X_meaned, rowvar=False)\n"
   ]
  },
  {
   "cell_type": "code",
   "execution_count": 22,
   "id": "eff560e4-6e6f-4d0c-8c58-282a01bf658e",
   "metadata": {},
   "outputs": [],
   "source": [
    "# Step 4: Eigen decomposition\n",
    "eigen_values, eigen_vectors = np.linalg.eigh(cov_mat)\n"
   ]
  },
  {
   "cell_type": "code",
   "execution_count": 23,
   "id": "95e505c6-eeec-43d5-9a2a-8e82a7ad4afe",
   "metadata": {},
   "outputs": [],
   "source": [
    "# Step 5: Sort\n",
    "sorted_index = np.argsort(eigen_values)[::-1]\n",
    "eigen_values = eigen_values[sorted_index]\n",
    "eigen_vectors = eigen_vectors[:, sorted_index]\n"
   ]
  },
  {
   "cell_type": "code",
   "execution_count": 24,
   "id": "70bc7ea4-c8ec-4cf6-abaf-7817b151a7da",
   "metadata": {},
   "outputs": [],
   "source": [
    "# Step 6: Choose top k eigenvectors\n",
    "k = 1\n",
    "eigenvector_subset = eigen_vectors[:, :k]\n"
   ]
  },
  {
   "cell_type": "code",
   "execution_count": 25,
   "id": "993227ab-b5a9-4d0b-bbd4-99d62de8d55c",
   "metadata": {},
   "outputs": [],
   "source": [
    "# Step 7: Transform\n",
    "X_reduced = np.dot(X_meaned, eigenvector_subset)\n"
   ]
  },
  {
   "cell_type": "code",
   "execution_count": 26,
   "id": "bf20658c-915e-427c-a0c9-a92822c74827",
   "metadata": {},
   "outputs": [],
   "source": [
    "from sklearn.decomposition import PCA\n",
    "\n",
    "pca = PCA(n_components=1)\n",
    "X_sklearn = pca.fit_transform(X)\n"
   ]
  },
  {
   "cell_type": "code",
   "execution_count": 27,
   "id": "ac3c6e4f-3763-4617-ba30-2c40118a3f71",
   "metadata": {},
   "outputs": [
    {
     "data": {
      "image/png": "[encoded data removed]",
      "text/plain": [
       "<Figure size 640x480 with 1 Axes>"
      ]
     },
     "metadata": {},
     "output_type": "display_data"
    }
   ],
   "source": [
    "# Plot original\n",
    "plt.scatter(X[:, 0], X[:, 1], label='Original Data')\n",
    "\n",
    "# Project back to 2D space (for visualization)\n",
    "X_projected_back = np.dot(X_reduced, eigenvector_subset.T) + np.mean(X, axis=0)\n",
    "plt.scatter(X_projected_back[:, 0], X_projected_back[:, 1], label='PCA Projection')\n",
    "\n",
    "plt.legend()\n",
    "plt.title(\"PCA Projection\")\n",
    "plt.show()\n",
    "\n"
   ]
  },
  {
   "cell_type": "markdown",
   "id": "a15abd87-b003-465d-bf57-c41b2ead4915",
   "metadata": {},
   "source": [
    "| Step | Component                              | Meaning                                |\n",
    "| ---- | -------------------------------------- | -------------------------------------- |\n",
    "| 1    | `X - np.mean(X, axis=0)`               | Center the data (mean 0)               |\n",
    "| 2    | `np.cov(X_meaned, rowvar=False)`       | Covariance matrix                      |\n",
    "| 3    | `np.linalg.eigh(cov_mat)`              | Get eigenvalues and eigenvectors       |\n",
    "| 4    | `np.argsort(...)`                      | Sort eigenvalues/vectors by importance |\n",
    "| 5    | `eigen_vectors[:, :k]`                 | Select top k eigenvectors              |\n",
    "| 6    | `np.dot(X_meaned, eigenvector_subset)` | Project data onto new axes             |\n"
   ]
  },
  {
   "cell_type": "code",
   "execution_count": null,
   "id": "fd5f3409-896c-4f64-8d3e-4f09f2c51948",
   "metadata": {},
   "outputs": [],
   "source": []
  }
 ],
 "metadata": {
  "kernelspec": {
   "display_name": "Python 3 (ipykernel)",
   "language": "python",
   "name": "python3"
  },
  "language_info": {
   "codemirror_mode": {
    "name": "ipython",
    "version": 3
   },
   "file_extension": ".py",
   "mimetype": "text/x-python",
   "name": "python",
   "nbconvert_exporter": "python",
   "pygments_lexer": "ipython3",
   "version": "3.13.5"
  },
  "widgets": {
   "application/vnd.jupyter.widget-state+json": {
    "state": {},
    "version_major": 2,
    "version_minor": 0
   }
  }
 },
 "nbformat": 4,
 "nbformat_minor": 5
}
